{
 "cells": [
  {
   "cell_type": "code",
   "execution_count": 1,
   "id": "2c9767f6",
   "metadata": {},
   "outputs": [
    {
     "name": "stderr",
     "output_type": "stream",
     "text": [
      "2025-05-07 22:44:38 - DEBUG - This is a debug message\n",
      "2025-05-07 22:44:38 - INFO - This is an info message\n",
      "2025-05-07 22:44:38 - WARNING - This is an error message\n",
      "2025-05-07 22:44:38 - CRITICAL - This is a critical message\n"
     ]
    }
   ],
   "source": [
    "import logging\n",
    "\n",
    "# Configure the basic logging settings\n",
    "import logging\n",
    "logging.basicConfig(level=logging.DEBUG, force=True,\n",
    "    format='%(asctime)s - %(levelname)s - %(message)s',\n",
    "    datefmt='%Y-%m-%d %H:%M:%S')\n",
    "\n",
    "\n",
    "# log message\n",
    "\n",
    "logging.debug(\"This is a debug message\")\n",
    "logging.info(\"This is an info message\")\n",
    "logging.warning(\"This is an error message\")\n",
    "logging.critical(\"This is a critical message\")\n"
   ]
  },
  {
   "cell_type": "code",
   "execution_count": 2,
   "id": "452d2796",
   "metadata": {},
   "outputs": [],
   "source": [
    "def Loggings():\n",
    "    try:\n",
    "                            \n",
    "        logging.basicConfig(filename='app.log',\n",
    "                            filemode='w',\n",
    "                            level=logging.DEBUG, force=True,\n",
    "                            format='%(asctime)s - %(levelname)s - %(message)s',\n",
    "                            datefmt='%Y-%m-%d %H:%M:%S'\n",
    "                            )\n",
    "        \n",
    "        logging.warning(\"This is an error message\")\n",
    "        logging.critical(\"This is a critical message\")\n",
    "        logging.debug(\"This is debug message\")\n",
    "        logging.info(\"This is info message\")\n",
    "    \n",
    "    except Exception as e:\n",
    "        print(f\"Error occured : {e}\")\n",
    "        return None\n",
    "    \n",
    "Loggings()\n",
    "    "
   ]
  },
  {
   "cell_type": "markdown",
   "id": "f9c28053",
   "metadata": {},
   "source": [
    "# Logging with Multiple Loggers"
   ]
  },
  {
   "cell_type": "code",
   "execution_count": 3,
   "id": "ba11268e",
   "metadata": {},
   "outputs": [],
   "source": [
    "import logging\n",
    "# Create a logger for module1\n",
    "logger1 = logging.getLogger(\"module1\")\n",
    "logger1.setLevel(logging.DEBUG)\n",
    "\n",
    "# Create a logger for module2\n",
    "\n",
    "logger2 = logging.getLogger('module2')\n",
    "logger2.setLevel(logging.WARNING)\n",
    "\n",
    "# Configure loggin setting\n",
    "logging.basicConfig(level=logging.DEBUG, force=True,\n",
    "                    format='%(asctime)s - %(levelname)s - %(message)s',\n",
    "                    datefmt=\"%Y-%m-%d %H:%M:%S\")\n"
   ]
  },
  {
   "cell_type": "code",
   "execution_count": 4,
   "id": "455b552f",
   "metadata": {},
   "outputs": [
    {
     "name": "stderr",
     "output_type": "stream",
     "text": [
      "2025-05-07 22:44:38 - DEBUG - This is debug message for module1\n",
      "2025-05-07 22:44:38 - WARNING - This is debug warning message\n",
      "2025-05-07 22:44:38 - ERROR - This is error message debug it\n"
     ]
    }
   ],
   "source": [
    "# log message with different loggers\n",
    "logger1.debug(\"This is debug message for module1\")\n",
    "logger2.warning(\"This is debug warning message\")\n",
    "logger2.error(\"This is error message debug it\")"
   ]
  },
  {
   "cell_type": "code",
   "execution_count": 5,
   "id": "808feda8",
   "metadata": {},
   "outputs": [
    {
     "name": "stderr",
     "output_type": "stream",
     "text": [
      "2025-05-07 22:44:38 - DEBUG - Adding 10 + 15 = 25\n",
      "2025-05-07 22:44:38 - DEBUG - Subtracting 23 +- 10 = 13\n",
      "2025-05-07 22:44:38 - DEBUG - Multiply 12 * 30 = 360\n",
      "2025-05-07 22:44:38 - DEBUG - Divide 4 / 2 = 2.0\n"
     ]
    },
    {
     "data": {
      "text/plain": [
       "2.0"
      ]
     },
     "execution_count": 5,
     "metadata": {},
     "output_type": "execute_result"
    }
   ],
   "source": [
    "# Configure loggin setting\n",
    "logging.basicConfig(level=logging.DEBUG, force=True,\n",
    "                    format='%(asctime)s - %(levelname)s - %(message)s',\n",
    "                    datefmt=\"%Y-%m-%d %H:%M:%S\",\n",
    "                    handlers=[\n",
    "                        logging.FileHandler(\"app1.log\"),\n",
    "                        logging.StreamHandler()\n",
    "                    ]\n",
    "                )\n",
    "\n",
    "logger = logging.getLogger(\"ArithmaticApp\")\n",
    "\n",
    "def add(a, b):\n",
    "    result = a + b\n",
    "    logger.debug(f\"Adding {a} + {b} = {result}\")\n",
    "    return result\n",
    "\n",
    "def Subtract(a, b):\n",
    "    result = a - b\n",
    "    logger.debug(f\"Subtracting {a} +- {b} = {result}\")\n",
    "    return result\n",
    "\n",
    "def Multiply(a, b):\n",
    "    result = a * b\n",
    "    logger.debug(f\"Multiply {a} * {b} = {result}\")\n",
    "    return result\n",
    "\n",
    "def Divide(a, b):\n",
    "    try:\n",
    "        result = a / b\n",
    "        logger.debug(f\"Divide {a} / {b} = {result}\")\n",
    "        return result\n",
    "    \n",
    "    except ZeroDivisionError:\n",
    "        logger.error(\"Division by zero error\")\n",
    "        return None\n",
    "    \n",
    "\n",
    "add(10, 15)\n",
    "Subtract(23,10)\n",
    "Multiply(12,30)\n",
    "Divide(4, 2)"
   ]
  },
  {
   "cell_type": "markdown",
   "id": "e349b65e",
   "metadata": {},
   "source": [
    "# Iterator\n",
    "- Iterator is advance concept in python. That allows efficient memory looping and memory management.\n",
    "- it provides us a way to access elements of collection without exposing the underlying structure."
   ]
  },
  {
   "cell_type": "code",
   "execution_count": 7,
   "id": "c96dc8a3",
   "metadata": {},
   "outputs": [
    {
     "name": "stdout",
     "output_type": "stream",
     "text": [
      "[1, 2, 3, 4, 5, 6]\n"
     ]
    }
   ],
   "source": [
    "from typing import List\n",
    "def Items(df:List[int])->List[int]:\n",
    "\n",
    "    try:\n",
    "        \n",
    "        return list(iter(df))\n",
    "    \n",
    "    except Exception as e:\n",
    "        print(f\"Error occured: {e}\")\n",
    "        return None\n",
    "df = [1, 2, 3, 4, 5, 6]\n",
    "ans = Items(df)\n",
    "print(df)\n",
    "\n",
    "    "
   ]
  },
  {
   "cell_type": "code",
   "execution_count": 22,
   "id": "c6d3dafb",
   "metadata": {},
   "outputs": [
    {
     "data": {
      "text/plain": [
       "1"
      ]
     },
     "execution_count": 22,
     "metadata": {},
     "output_type": "execute_result"
    }
   ],
   "source": [
    "lists = [1, 2, 3, 4, 5, 6]\n",
    "iterator = iter(lists)\n",
    "next(iterator)"
   ]
  },
  {
   "cell_type": "markdown",
   "id": "f0310d0a",
   "metadata": {},
   "source": [
    "# Generators"
   ]
  },
  {
   "cell_type": "code",
   "execution_count": 26,
   "id": "ccfac9d3",
   "metadata": {},
   "outputs": [
    {
     "data": {
      "text/plain": [
       "<generator object square at 0x0000014565A61560>"
      ]
     },
     "execution_count": 26,
     "metadata": {},
     "output_type": "execute_result"
    }
   ],
   "source": [
    "def square(n):\n",
    "    for i in range(3):\n",
    "        yield i ** 2\n",
    "    \n",
    "square(3)"
   ]
  },
  {
   "cell_type": "code",
   "execution_count": 27,
   "id": "6cf1dbf4",
   "metadata": {},
   "outputs": [
    {
     "name": "stdout",
     "output_type": "stream",
     "text": [
      "0\n",
      "1\n",
      "4\n"
     ]
    }
   ],
   "source": [
    "for i in square(3):\n",
    "    print(i)"
   ]
  },
  {
   "cell_type": "code",
   "execution_count": 30,
   "id": "27a3768b",
   "metadata": {},
   "outputs": [
    {
     "data": {
      "text/plain": [
       "0"
      ]
     },
     "execution_count": 30,
     "metadata": {},
     "output_type": "execute_result"
    }
   ],
   "source": [
    "a = square(3)\n",
    "next(a)"
   ]
  },
  {
   "cell_type": "code",
   "execution_count": null,
   "id": "9dc3e8ac",
   "metadata": {},
   "outputs": [],
   "source": []
  }
 ],
 "metadata": {
  "kernelspec": {
   "display_name": "Python 3",
   "language": "python",
   "name": "python3"
  },
  "language_info": {
   "codemirror_mode": {
    "name": "ipython",
    "version": 3
   },
   "file_extension": ".py",
   "mimetype": "text/x-python",
   "name": "python",
   "nbconvert_exporter": "python",
   "pygments_lexer": "ipython3",
   "version": "3.13.3"
  }
 },
 "nbformat": 4,
 "nbformat_minor": 5
}
